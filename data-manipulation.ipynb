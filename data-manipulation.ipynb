{
 "cells": [
  {
   "cell_type": "code",
   "execution_count": 14,
   "metadata": {},
   "outputs": [],
   "source": [
    "# Import the appropriate libraries with aliases\n",
    "import pandas as pd\n",
    "import numpy as np\n",
    "import seaborn as sns\n",
    "import matplotlib.pyplot as plt\n",
    "\n",
    "# Create three new dataframes for each csv\n",
    "diabetes_df = pd.read_csv(r\"cleaned_diabetes_df.csv\")"
   ]
  },
  {
   "cell_type": "code",
   "execution_count": 15,
   "metadata": {},
   "outputs": [
    {
     "data": {
      "text/html": [
       "<div>\n",
       "<style scoped>\n",
       "    .dataframe tbody tr th:only-of-type {\n",
       "        vertical-align: middle;\n",
       "    }\n",
       "\n",
       "    .dataframe tbody tr th {\n",
       "        vertical-align: top;\n",
       "    }\n",
       "\n",
       "    .dataframe thead th {\n",
       "        text-align: right;\n",
       "    }\n",
       "</style>\n",
       "<table border=\"1\" class=\"dataframe\">\n",
       "  <thead>\n",
       "    <tr style=\"text-align: right;\">\n",
       "      <th></th>\n",
       "      <th>HighChol</th>\n",
       "      <th>BMI</th>\n",
       "      <th>Smoker</th>\n",
       "      <th>HeartDiseaseorAttack</th>\n",
       "      <th>Fruits</th>\n",
       "      <th>Veggies</th>\n",
       "      <th>HvyAlcoholConsump</th>\n",
       "      <th>Stroke</th>\n",
       "      <th>HighBP</th>\n",
       "      <th>Diabetes</th>\n",
       "      <th>BMI_Category</th>\n",
       "    </tr>\n",
       "  </thead>\n",
       "  <tbody>\n",
       "    <tr>\n",
       "      <th>0</th>\n",
       "      <td>No</td>\n",
       "      <td>26.0</td>\n",
       "      <td>No</td>\n",
       "      <td>No</td>\n",
       "      <td>No</td>\n",
       "      <td>Yes</td>\n",
       "      <td>No</td>\n",
       "      <td>No</td>\n",
       "      <td>Yes</td>\n",
       "      <td>No</td>\n",
       "      <td>overwt</td>\n",
       "    </tr>\n",
       "    <tr>\n",
       "      <th>1</th>\n",
       "      <td>Yes</td>\n",
       "      <td>26.0</td>\n",
       "      <td>Yes</td>\n",
       "      <td>No</td>\n",
       "      <td>Yes</td>\n",
       "      <td>No</td>\n",
       "      <td>No</td>\n",
       "      <td>Yes</td>\n",
       "      <td>Yes</td>\n",
       "      <td>No</td>\n",
       "      <td>overwt</td>\n",
       "    </tr>\n",
       "    <tr>\n",
       "      <th>2</th>\n",
       "      <td>No</td>\n",
       "      <td>26.0</td>\n",
       "      <td>No</td>\n",
       "      <td>No</td>\n",
       "      <td>Yes</td>\n",
       "      <td>Yes</td>\n",
       "      <td>No</td>\n",
       "      <td>No</td>\n",
       "      <td>No</td>\n",
       "      <td>No</td>\n",
       "      <td>overwt</td>\n",
       "    </tr>\n",
       "    <tr>\n",
       "      <th>3</th>\n",
       "      <td>Yes</td>\n",
       "      <td>28.0</td>\n",
       "      <td>Yes</td>\n",
       "      <td>No</td>\n",
       "      <td>Yes</td>\n",
       "      <td>Yes</td>\n",
       "      <td>No</td>\n",
       "      <td>No</td>\n",
       "      <td>Yes</td>\n",
       "      <td>No</td>\n",
       "      <td>overwt</td>\n",
       "    </tr>\n",
       "    <tr>\n",
       "      <th>4</th>\n",
       "      <td>No</td>\n",
       "      <td>29.0</td>\n",
       "      <td>Yes</td>\n",
       "      <td>No</td>\n",
       "      <td>Yes</td>\n",
       "      <td>Yes</td>\n",
       "      <td>No</td>\n",
       "      <td>No</td>\n",
       "      <td>No</td>\n",
       "      <td>No</td>\n",
       "      <td>overwt</td>\n",
       "    </tr>\n",
       "  </tbody>\n",
       "</table>\n",
       "</div>"
      ],
      "text/plain": [
       "  HighChol   BMI Smoker HeartDiseaseorAttack Fruits Veggies HvyAlcoholConsump  \\\n",
       "0       No  26.0     No                   No     No     Yes                No   \n",
       "1      Yes  26.0    Yes                   No    Yes      No                No   \n",
       "2       No  26.0     No                   No    Yes     Yes                No   \n",
       "3      Yes  28.0    Yes                   No    Yes     Yes                No   \n",
       "4       No  29.0    Yes                   No    Yes     Yes                No   \n",
       "\n",
       "  Stroke HighBP Diabetes BMI_Category  \n",
       "0     No    Yes       No       overwt  \n",
       "1    Yes    Yes       No       overwt  \n",
       "2     No     No       No       overwt  \n",
       "3     No    Yes       No       overwt  \n",
       "4     No     No       No       overwt  "
      ]
     },
     "metadata": {},
     "output_type": "display_data"
    }
   ],
   "source": [
    "# adding a column to categorize BMI by class\n",
    "def categorizing_BMI(BMI):\n",
    "        if BMI < 18.5:\n",
    "                return 'underwt'\n",
    "        elif 18.5 <= BMI <= 24.9:\n",
    "                return 'healthywt'\n",
    "        elif 25 <= BMI <= 29.9:\n",
    "                return 'overwt'\n",
    "        elif 30 <= BMI <= 34.9:\n",
    "                return 'class1ob'\n",
    "        elif 35 <= BMI <= 39.9:\n",
    "                return 'class2ob'\n",
    "        elif BMI >= 40:\n",
    "                return 'severeob'\n",
    "\n",
    "diabetes_df['BMI_Category'] = diabetes_df['BMI'].apply(categorizing_BMI)\n",
    "display(diabetes_df.head())"
   ]
  },
  {
   "cell_type": "code",
   "execution_count": 16,
   "metadata": {},
   "outputs": [
    {
     "name": "stdout",
     "output_type": "stream",
     "text": [
      "<class 'pandas.core.frame.DataFrame'>\n",
      "RangeIndex: 68511 entries, 0 to 68510\n",
      "Data columns (total 11 columns):\n",
      " #   Column                Non-Null Count  Dtype  \n",
      "---  ------                --------------  -----  \n",
      " 0   HighChol              68511 non-null  object \n",
      " 1   BMI                   68511 non-null  float64\n",
      " 2   Smoker                68511 non-null  object \n",
      " 3   HeartDiseaseorAttack  68511 non-null  object \n",
      " 4   Fruits                68511 non-null  object \n",
      " 5   Veggies               68511 non-null  object \n",
      " 6   HvyAlcoholConsump     68511 non-null  object \n",
      " 7   Stroke                68511 non-null  object \n",
      " 8   HighBP                68511 non-null  object \n",
      " 9   Diabetes              68511 non-null  object \n",
      " 10  BMI_Category          68511 non-null  object \n",
      "dtypes: float64(1), object(10)\n",
      "memory usage: 5.7+ MB\n"
     ]
    },
    {
     "data": {
      "text/plain": [
       "None"
      ]
     },
     "metadata": {},
     "output_type": "display_data"
    }
   ],
   "source": [
    "display(diabetes_df.info())\n",
    "diabetes_df.to_csv('manipulated_diabetes_df.csv', index=False)"
   ]
  }
 ],
 "metadata": {
  "kernelspec": {
   "display_name": "venv",
   "language": "python",
   "name": "python3"
  },
  "language_info": {
   "codemirror_mode": {
    "name": "ipython",
    "version": 3
   },
   "file_extension": ".py",
   "mimetype": "text/x-python",
   "name": "python",
   "nbconvert_exporter": "python",
   "pygments_lexer": "ipython3",
   "version": "3.12.3"
  }
 },
 "nbformat": 4,
 "nbformat_minor": 2
}
